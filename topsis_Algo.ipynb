{
 "cells": [
  {
   "cell_type": "code",
   "execution_count": 1,
   "metadata": {},
   "outputs": [],
   "source": [
    "import numpy as np\n",
    "import pandas as pd \n",
    "import matplotlib.pyplot as plt\n",
    "plt.style.use(\"seaborn\")"
   ]
  },
  {
   "cell_type": "code",
   "execution_count": 2,
   "metadata": {},
   "outputs": [
    {
     "data": {
      "text/html": [
       "<div>\n",
       "<style scoped>\n",
       "    .dataframe tbody tr th:only-of-type {\n",
       "        vertical-align: middle;\n",
       "    }\n",
       "\n",
       "    .dataframe tbody tr th {\n",
       "        vertical-align: top;\n",
       "    }\n",
       "\n",
       "    .dataframe thead th {\n",
       "        text-align: right;\n",
       "    }\n",
       "</style>\n",
       "<table border=\"1\" class=\"dataframe\">\n",
       "  <thead>\n",
       "    <tr style=\"text-align: right;\">\n",
       "      <th></th>\n",
       "      <th>DEVICES</th>\n",
       "      <th>STORAGE</th>\n",
       "      <th>MEMORY</th>\n",
       "      <th>CACHE MEMORY</th>\n",
       "      <th>POWER CONSUMPTION</th>\n",
       "      <th>PROCESSOR</th>\n",
       "    </tr>\n",
       "  </thead>\n",
       "  <tbody>\n",
       "    <tr>\n",
       "      <td>0</td>\n",
       "      <td>acer predator</td>\n",
       "      <td>256</td>\n",
       "      <td>8</td>\n",
       "      <td>8</td>\n",
       "      <td>130</td>\n",
       "      <td>2.3</td>\n",
       "    </tr>\n",
       "    <tr>\n",
       "      <td>1</td>\n",
       "      <td>raspberry pi 4</td>\n",
       "      <td>128</td>\n",
       "      <td>4</td>\n",
       "      <td>2</td>\n",
       "      <td>15</td>\n",
       "      <td>1.5</td>\n",
       "    </tr>\n",
       "    <tr>\n",
       "      <td>2</td>\n",
       "      <td>Lenovo Ideapad 520</td>\n",
       "      <td>512</td>\n",
       "      <td>8</td>\n",
       "      <td>4</td>\n",
       "      <td>65</td>\n",
       "      <td>1.6</td>\n",
       "    </tr>\n",
       "    <tr>\n",
       "      <td>3</td>\n",
       "      <td>HP x360 Pavillion</td>\n",
       "      <td>128</td>\n",
       "      <td>8</td>\n",
       "      <td>8</td>\n",
       "      <td>65</td>\n",
       "      <td>1.8</td>\n",
       "    </tr>\n",
       "    <tr>\n",
       "      <td>4</td>\n",
       "      <td>dell inspiron desktop</td>\n",
       "      <td>256</td>\n",
       "      <td>4</td>\n",
       "      <td>6</td>\n",
       "      <td>145</td>\n",
       "      <td>2.8</td>\n",
       "    </tr>\n",
       "  </tbody>\n",
       "</table>\n",
       "</div>"
      ],
      "text/plain": [
       "                 DEVICES  STORAGE  MEMORY  CACHE MEMORY  POWER CONSUMPTION  \\\n",
       "0          acer predator      256       8             8                130   \n",
       "1         raspberry pi 4      128       4             2                 15   \n",
       "2     Lenovo Ideapad 520      512       8             4                 65   \n",
       "3      HP x360 Pavillion      128       8             8                 65   \n",
       "4  dell inspiron desktop      256       4             6                145   \n",
       "\n",
       "   PROCESSOR  \n",
       "0        2.3  \n",
       "1        1.5  \n",
       "2        1.6  \n",
       "3        1.8  \n",
       "4        2.8  "
      ]
     },
     "execution_count": 2,
     "metadata": {},
     "output_type": "execute_result"
    }
   ],
   "source": [
    "df = pd.read_csv(\"devices_dataset.csv\")\n",
    "df.head()"
   ]
  },
  {
   "cell_type": "code",
   "execution_count": 3,
   "metadata": {},
   "outputs": [],
   "source": [
    "X = df.values\n",
    "laptop_full_info = df.values"
   ]
  },
  {
   "cell_type": "code",
   "execution_count": 4,
   "metadata": {},
   "outputs": [],
   "source": [
    "X = X[ : , 1 :  ]\n",
    "Y = np.arange(X.shape[0])"
   ]
  },
  {
   "cell_type": "code",
   "execution_count": 5,
   "metadata": {},
   "outputs": [
    {
     "name": "stdout",
     "output_type": "stream",
     "text": [
      "[[256 8 8 130 2.3]\n",
      " [128 4 2 15 1.5]\n",
      " [512 8 4 65 1.6]\n",
      " [128 8 8 65 1.8]\n",
      " [256 4 6 145 2.8]\n",
      " [256 8 4 145 2.7]\n",
      " [512 4 4 85 1.4]\n",
      " [256 6 4 35 1.4]\n",
      " [128 12 6 26 2.0]\n",
      " [512 8 6 65 1.0]]\n",
      "[0 1 2 3 4 5 6 7 8 9]\n",
      "(10,)\n"
     ]
    }
   ],
   "source": [
    "print(X)\n",
    "print(Y)\n",
    "print(Y.shape)"
   ]
  },
  {
   "cell_type": "code",
   "execution_count": 6,
   "metadata": {},
   "outputs": [
    {
     "data": {
      "image/png": "[encoded data removed]",
      "text/plain": [
       "<Figure size 432x288 with 1 Axes>"
      ]
     },
     "metadata": {
      "needs_background": "light"
     },
     "output_type": "display_data"
    }
   ],
   "source": [
    "plt.scatter(X[: , 1] , X[: , 2])\n",
    "plt.title(\"Cache Memory Vs Memory  \")\n",
    "plt.xlabel(\"Memory \")\n",
    "plt.ylabel(\"Cache Memory \")\n",
    "plt.show()"
   ]
  },
  {
   "cell_type": "code",
   "execution_count": 7,
   "metadata": {},
   "outputs": [
    {
     "data": {
      "image/png": "[encoded data removed]",
      "text/plain": [
       "<Figure size 432x288 with 1 Axes>"
      ]
     },
     "metadata": {
      "needs_background": "light"
     },
     "output_type": "display_data"
    }
   ],
   "source": [
    "plt.scatter(X[: , 0] , X[: , 1])\n",
    "plt.title(\"Memory Vs Storage \")\n",
    "plt.xlabel(\"Storage \")\n",
    "plt.ylabel(\"Memory \")\n",
    "plt.show()"
   ]
  },
  {
   "cell_type": "code",
   "execution_count": 8,
   "metadata": {},
   "outputs": [
    {
     "data": {
      "image/png": "[encoded data removed]",
      "text/plain": [
       "<Figure size 432x288 with 1 Axes>"
      ]
     },
     "metadata": {
      "needs_background": "light"
     },
     "output_type": "display_data"
    }
   ],
   "source": [
    "plt.scatter(X[: , 4] , X[: , 3])\n",
    "plt.title(\"Power Consumption  Vs Processor   \")\n",
    "plt.xlabel(\"Processor \")\n",
    "plt.ylabel(\"Power Consumption \")\n",
    "plt.show()"
   ]
  },
  {
   "cell_type": "code",
   "execution_count": 9,
   "metadata": {},
   "outputs": [
    {
     "data": {
      "text/html": [
       "<div>\n",
       "<style scoped>\n",
       "    .dataframe tbody tr th:only-of-type {\n",
       "        vertical-align: middle;\n",
       "    }\n",
       "\n",
       "    .dataframe tbody tr th {\n",
       "        vertical-align: top;\n",
       "    }\n",
       "\n",
       "    .dataframe thead th {\n",
       "        text-align: right;\n",
       "    }\n",
       "</style>\n",
       "<table border=\"1\" class=\"dataframe\">\n",
       "  <thead>\n",
       "    <tr style=\"text-align: right;\">\n",
       "      <th></th>\n",
       "      <th>DEVICES</th>\n",
       "      <th>STORAGE</th>\n",
       "      <th>MEMORY</th>\n",
       "      <th>CACHE MEMORY</th>\n",
       "      <th>POWER CONSUMPTION</th>\n",
       "      <th>PROCESSOR</th>\n",
       "    </tr>\n",
       "  </thead>\n",
       "  <tbody>\n",
       "    <tr>\n",
       "      <td>0</td>\n",
       "      <td>acer predator</td>\n",
       "      <td>256</td>\n",
       "      <td>8</td>\n",
       "      <td>8</td>\n",
       "      <td>130</td>\n",
       "      <td>2.3</td>\n",
       "    </tr>\n",
       "    <tr>\n",
       "      <td>1</td>\n",
       "      <td>raspberry pi 4</td>\n",
       "      <td>128</td>\n",
       "      <td>4</td>\n",
       "      <td>2</td>\n",
       "      <td>15</td>\n",
       "      <td>1.5</td>\n",
       "    </tr>\n",
       "    <tr>\n",
       "      <td>2</td>\n",
       "      <td>Lenovo Ideapad 520</td>\n",
       "      <td>512</td>\n",
       "      <td>8</td>\n",
       "      <td>4</td>\n",
       "      <td>65</td>\n",
       "      <td>1.6</td>\n",
       "    </tr>\n",
       "    <tr>\n",
       "      <td>3</td>\n",
       "      <td>HP x360 Pavillion</td>\n",
       "      <td>128</td>\n",
       "      <td>8</td>\n",
       "      <td>8</td>\n",
       "      <td>65</td>\n",
       "      <td>1.8</td>\n",
       "    </tr>\n",
       "    <tr>\n",
       "      <td>4</td>\n",
       "      <td>dell inspiron desktop</td>\n",
       "      <td>256</td>\n",
       "      <td>4</td>\n",
       "      <td>6</td>\n",
       "      <td>145</td>\n",
       "      <td>2.8</td>\n",
       "    </tr>\n",
       "  </tbody>\n",
       "</table>\n",
       "</div>"
      ],
      "text/plain": [
       "                 DEVICES  STORAGE  MEMORY  CACHE MEMORY  POWER CONSUMPTION  \\\n",
       "0          acer predator      256       8             8                130   \n",
       "1         raspberry pi 4      128       4             2                 15   \n",
       "2     Lenovo Ideapad 520      512       8             4                 65   \n",
       "3      HP x360 Pavillion      128       8             8                 65   \n",
       "4  dell inspiron desktop      256       4             6                145   \n",
       "\n",
       "   PROCESSOR  \n",
       "0        2.3  \n",
       "1        1.5  \n",
       "2        1.6  \n",
       "3        1.8  \n",
       "4        2.8  "
      ]
     },
     "execution_count": 9,
     "metadata": {},
     "output_type": "execute_result"
    }
   ],
   "source": [
    "df.head()"
   ]
  },
  {
   "cell_type": "code",
   "execution_count": 10,
   "metadata": {},
   "outputs": [],
   "source": [
    "A1 = np.array(X)\n",
    "non_beng = [0.49536008 ,  0.25768856 ,  0.04479474 ,  0.08431433 ,  0.11784228]"
   ]
  },
  {
   "cell_type": "code",
   "execution_count": 11,
   "metadata": {},
   "outputs": [
    {
     "name": "stdout",
     "output_type": "stream",
     "text": [
      "[[256 8 8 130 2.3]\n",
      " [128 4 2 15 1.5]\n",
      " [512 8 4 65 1.6]\n",
      " [128 8 8 65 1.8]\n",
      " [256 4 6 145 2.8]\n",
      " [256 8 4 145 2.7]\n",
      " [512 4 4 85 1.4]\n",
      " [256 6 4 35 1.4]\n",
      " [128 12 6 26 2.0]\n",
      " [512 8 6 65 1.0]]\n"
     ]
    }
   ],
   "source": [
    "print(A1)"
   ]
  },
  {
   "cell_type": "code",
   "execution_count": 12,
   "metadata": {},
   "outputs": [
    {
     "name": "stdout",
     "output_type": "stream",
     "text": [
      "[[0.24433889 0.34174306 0.45883147 0.45684112 0.37614051]\n",
      " [0.12216944 0.17087153 0.11470787 0.05271244 0.24530903]\n",
      " [0.48867778 0.34174306 0.22941573 0.22842056 0.26166296]\n",
      " [0.12216944 0.34174306 0.45883147 0.22842056 0.29437083]\n",
      " [0.24433889 0.17087153 0.3441236  0.50955356 0.45791018]\n",
      " [0.24433889 0.34174306 0.22941573 0.50955356 0.44155625]\n",
      " [0.48867778 0.17087153 0.22941573 0.29870381 0.22895509]\n",
      " [0.24433889 0.2563073  0.22941573 0.12299569 0.22895509]\n",
      " [0.12216944 0.51261459 0.3441236  0.09136822 0.3270787 ]\n",
      " [0.48867778 0.34174306 0.3441236  0.22842056 0.16353935]]\n"
     ]
    }
   ],
   "source": [
    "def squaremat():\n",
    "    square = []\n",
    "    m , n  = A1.shape\n",
    "    for j in range(n):\n",
    "        squ = 0.0 \n",
    "        for k in range(m):\n",
    "            squ+=A1[k][j]*A1[k][j]\n",
    "        square.append(pow(squ , 0.5));\n",
    "    return square\n",
    "square = squaremat()\n",
    "def A2_matrix():    \n",
    "    A2 = []\n",
    "    m , n = A1.shape\n",
    "    for i in range(m):\n",
    "        for j in range(n):\n",
    "            x = A1[i][j] / square[j] \n",
    "            A2.append(x)\n",
    "    A2 = np.array(A2).reshape((m ,n))\n",
    "    return A2\n",
    "Normalized_matrix = A2_matrix()\n",
    "print(Normalized_matrix)"
   ]
  },
  {
   "cell_type": "code",
   "execution_count": 13,
   "metadata": {},
   "outputs": [],
   "source": [
    "A2 = Normalized_matrix\n",
    "def A3_matrix():\n",
    "    m , n = A2.shape \n",
    "    A3 = [] \n",
    "    for i in range(m):\n",
    "        for j in range(n):\n",
    "            A3.append(A2[i][j]*non_beng[j])\n",
    "    A3 = np.array(A3).reshape(A2.shape)\n",
    "    return A3\n",
    "Weighted_Normalised_matrix = A3_matrix()\n",
    "#print(Weighted_Normalised_matrix)"
   ]
  },
  {
   "cell_type": "code",
   "execution_count": 14,
   "metadata": {},
   "outputs": [],
   "source": [
    "minnn = Weighted_Normalised_matrix.min(axis=0)\n",
    "maxxx = Weighted_Normalised_matrix.max(axis=0)\n",
    "Vplus = np.array([maxxx[0] ,maxxx[1],maxxx[2] ,minnn[3] , maxxx[4] ] )\n",
    "Vminus  =np.array( [ minnn[0],minnn[1],minnn[2] , maxxx[3],minnn[4] ])"
   ]
  },
  {
   "cell_type": "code",
   "execution_count": 15,
   "metadata": {},
   "outputs": [],
   "source": [
    "def Splus():\n",
    "    m , n = Weighted_Normalised_matrix.shape\n",
    "    Splus_list = []\n",
    "    for i in range(m):\n",
    "        temp = 0.0 \n",
    "        for j in range(n):\n",
    "            temp+=(Weighted_Normalised_matrix[i][j] - Vplus[j])**2\n",
    "        temp = pow(temp , 0.5) ; \n",
    "        Splus_list.append(temp)\n",
    "    Splus_list = np.array(Splus_list)\n",
    "    return Splus_list\n",
    "Splus = Splus()\n",
    "def Sminus():\n",
    "    m , n = Weighted_Normalised_matrix.shape\n",
    "    Splus_list = []\n",
    "    for i in range(m):\n",
    "        temp = 0.0 \n",
    "        for j in range(n):\n",
    "            temp+=(Weighted_Normalised_matrix[i][j] - Vminus[j])**2\n",
    "        temp = pow(temp , 0.5) ; \n",
    "        Splus_list.append(temp)\n",
    "    Splus_list = np.array(Splus_list)\n",
    "    return Splus_list\n",
    "Sminus = Sminus()\n",
    "#print(Splus)\n",
    "#print(Sminus)"
   ]
  },
  {
   "cell_type": "code",
   "execution_count": 16,
   "metadata": {},
   "outputs": [
    {
     "name": "stdout",
     "output_type": "stream",
     "text": [
      "[[0.78106989 2.        ]\n",
      " [0.7641559  9.        ]\n",
      " [0.65792764 6.        ]\n",
      " [0.37775815 5.        ]\n",
      " [0.37614469 0.        ]\n",
      " [0.34808299 8.        ]\n",
      " [0.34040906 7.        ]\n",
      " [0.31315681 4.        ]\n",
      " [0.2245472  3.        ]\n",
      " [0.16297875 1.        ]]\n"
     ]
    }
   ],
   "source": [
    "def predict():\n",
    "    pre = []\n",
    "    for i in range(Weighted_Normalised_matrix.shape[0]):\n",
    "        ans = Sminus[i] /(Splus[i]  + Sminus[i]) \n",
    "        pre.append((ans , i ))\n",
    "    pre = sorted ( pre , reverse =True)\n",
    "    pre = np.array(pre)\n",
    "    return  pre\n",
    "predict = predict()\n",
    "print(predict)"
   ]
  },
  {
   "cell_type": "code",
   "execution_count": 17,
   "metadata": {},
   "outputs": [],
   "source": [
    "def rank_of_laptop():\n",
    "    lp_rank = []\n",
    "    for i in range(Weighted_Normalised_matrix.shape[0]):\n",
    "        lp = int(predict[i][1])\n",
    "        lp_rank.append(laptop_full_info[lp])\n",
    "    lp_rank_numpy  =np.array(lp_rank)\n",
    "    return lp_rank_numpy\n",
    "ranklp = rank_of_laptop()"
   ]
  },
  {
   "cell_type": "code",
   "execution_count": 18,
   "metadata": {},
   "outputs": [
    {
     "data": {
      "text/html": [
       "<div>\n",
       "<style scoped>\n",
       "    .dataframe tbody tr th:only-of-type {\n",
       "        vertical-align: middle;\n",
       "    }\n",
       "\n",
       "    .dataframe tbody tr th {\n",
       "        vertical-align: top;\n",
       "    }\n",
       "\n",
       "    .dataframe thead th {\n",
       "        text-align: right;\n",
       "    }\n",
       "</style>\n",
       "<table border=\"1\" class=\"dataframe\">\n",
       "  <thead>\n",
       "    <tr style=\"text-align: right;\">\n",
       "      <th></th>\n",
       "      <th>DEVICES</th>\n",
       "      <th>STORAGE</th>\n",
       "      <th>MEMORY</th>\n",
       "      <th>CACHE MEMORY</th>\n",
       "      <th>POWER CONSUMPTION</th>\n",
       "      <th>PROCESSOR</th>\n",
       "    </tr>\n",
       "  </thead>\n",
       "  <tbody>\n",
       "    <tr>\n",
       "      <td>0</td>\n",
       "      <td>Lenovo Ideapad 520</td>\n",
       "      <td>512</td>\n",
       "      <td>8</td>\n",
       "      <td>4</td>\n",
       "      <td>65</td>\n",
       "      <td>1.6</td>\n",
       "    </tr>\n",
       "    <tr>\n",
       "      <td>1</td>\n",
       "      <td>Dell Inspiron 5593</td>\n",
       "      <td>512</td>\n",
       "      <td>8</td>\n",
       "      <td>6</td>\n",
       "      <td>65</td>\n",
       "      <td>1</td>\n",
       "    </tr>\n",
       "    <tr>\n",
       "      <td>2</td>\n",
       "      <td>Acer Swift 3</td>\n",
       "      <td>512</td>\n",
       "      <td>4</td>\n",
       "      <td>4</td>\n",
       "      <td>85</td>\n",
       "      <td>1.4</td>\n",
       "    </tr>\n",
       "    <tr>\n",
       "      <td>3</td>\n",
       "      <td>Lenovo Ideacentre desktop</td>\n",
       "      <td>256</td>\n",
       "      <td>8</td>\n",
       "      <td>4</td>\n",
       "      <td>145</td>\n",
       "      <td>2.7</td>\n",
       "    </tr>\n",
       "    <tr>\n",
       "      <td>4</td>\n",
       "      <td>acer predator</td>\n",
       "      <td>256</td>\n",
       "      <td>8</td>\n",
       "      <td>8</td>\n",
       "      <td>130</td>\n",
       "      <td>2.3</td>\n",
       "    </tr>\n",
       "  </tbody>\n",
       "</table>\n",
       "</div>"
      ],
      "text/plain": [
       "                     DEVICES STORAGE MEMORY CACHE MEMORY POWER CONSUMPTION  \\\n",
       "0         Lenovo Ideapad 520     512      8            4                65   \n",
       "1         Dell Inspiron 5593     512      8            6                65   \n",
       "2               Acer Swift 3     512      4            4                85   \n",
       "3  Lenovo Ideacentre desktop     256      8            4               145   \n",
       "4              acer predator     256      8            8               130   \n",
       "\n",
       "  PROCESSOR  \n",
       "0       1.6  \n",
       "1         1  \n",
       "2       1.4  \n",
       "3       2.7  \n",
       "4       2.3  "
      ]
     },
     "execution_count": 18,
     "metadata": {},
     "output_type": "execute_result"
    }
   ],
   "source": [
    "dflp = pd.DataFrame(data=ranklp  , columns=list(df.columns))\n",
    "dflp.to_csv(\"topsis_Rank.csv\" , index = True)\n",
    "dflp.head()"
   ]
  },
  {
   "cell_type": "code",
   "execution_count": null,
   "metadata": {},
   "outputs": [],
   "source": []
  },
  {
   "cell_type": "code",
   "execution_count": null,
   "metadata": {},
   "outputs": [],
   "source": []
  }
 ],
 "metadata": {
  "kernelspec": {
   "display_name": "Python 3",
   "language": "python",
   "name": "python3"
  },
  "language_info": {
   "codemirror_mode": {
    "name": "ipython",
    "version": 3
   },
   "file_extension": ".py",
   "mimetype": "text/x-python",
   "name": "python",
   "nbconvert_exporter": "python",
   "pygments_lexer": "ipython3",
   "version": "3.7.4"
  }
 },
 "nbformat": 4,
 "nbformat_minor": 4
}
